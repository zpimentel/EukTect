{
 "cells": [
  {
   "cell_type": "code",
   "execution_count": 6,
   "id": "2c7b4b37-3220-40e0-95bd-57f71d292752",
   "metadata": {},
   "outputs": [],
   "source": [
    "import os\n",
    "import gzip\n",
    "import pickle\n",
    "import requests\n",
    "import subprocess\n",
    "import statistics\n",
    "from collections import defaultdict\n",
    "\n",
    "import pandas as pd\n",
    "from Bio import SeqIO"
   ]
  },
  {
   "cell_type": "code",
   "execution_count": 8,
   "id": "a64b47c0-d049-47bf-8180-8b967ea092bc",
   "metadata": {},
   "outputs": [
    {
     "name": "stderr",
     "output_type": "stream",
     "text": [
      "/home/zpimentel/miniconda3/envs/VirTect/lib/python3.6/site-packages/IPython/core/interactiveshell.py:3072: DtypeWarning: Columns (20) have mixed types.Specify dtype option on import or set low_memory=False.\n",
      "  interactivity=interactivity, compiler=compiler, result=result)\n"
     ]
    }
   ],
   "source": [
    "if not os.path.exists('./genomes'):\n",
    "    os.makedirs('./genomes')\n",
    "\n",
    "def download_file(url, outfile):\n",
    "    r = requests.get(url, allow_redirects=True)\n",
    "    open(outfile, 'wb').write(r.content)\n",
    "\n",
    "def unzip_db(filename):\n",
    "    cmd = ['unzip', filename, '-d', 'taxonomy']\n",
    "    unzip_call = subprocess.call(cmd, shell=False, stderr=subprocess.STDOUT)\n",
    "\n",
    "refseq_handle = \"https://ftp.ncbi.nih.gov/genomes/refseq/assembly_summary_refseq.txt\"\n",
    "taxdmp = 'https://ftp.ncbi.nlm.nih.gov/pub/taxonomy/taxdmp.zip'\n",
    "\n",
    "download_file(refseq_handle, 'assembly_summary_refseq.txt')\n",
    "download_file(taxdmp, 'taxdmp.zip')\n",
    "unzip_db('taxdmp.zip')\n",
    "\n",
    "df = pd.read_csv(refseq_handle, skiprows=1, sep=\"\\t\")"
   ]
  },
  {
   "cell_type": "code",
   "execution_count": 9,
   "id": "621adcab-5930-4d9a-abeb-d4a198a549fe",
   "metadata": {},
   "outputs": [],
   "source": [
    "# parse the nodes.dmp file from ncbi taxonomy\n",
    "node_dict = {}\n",
    "nodes_file = open(\"./taxonomy/nodes.dmp\")\n",
    "for row in nodes_file:\n",
    "    row = row.strip().split('\\t|\\t')\n",
    "    child = row[0]\n",
    "    parent = row[1]\n",
    "    tax_level = row[2]\n",
    "    node_dict[child] = parent\n",
    "    \n",
    "\n",
    "def assign_genomes(taxid, node_dict = node_dict):\n",
    "    \"\"\"\n",
    "    Given a NCBI taxonomy ID, this function figures out the domain that ID belongs to.\n",
    "    \"\"\"\n",
    "    eukaryote = 2759\n",
    "    bacteria = 2\n",
    "    archae = 2157\n",
    "    virus = 10239\n",
    "    \n",
    "    taxa_list = [eukaryote, bacteria, archae, virus]\n",
    "    classification = \"not classified\"\n",
    "        \n",
    "    while taxid not in taxa_list:\n",
    "        try:\n",
    "            taxid = int(node_dict[str(taxid)])\n",
    "            return(assign_genomes(taxid, node_dict))\n",
    "        except:\n",
    "            return(classification)\n",
    "\n",
    "    if taxid == eukaryote: classification = 'eukaryote'\n",
    "    if taxid == bacteria: classification = 'bacteria'\n",
    "    if taxid == archae: classification = 'archae'\n",
    "    if taxid == virus: classification = 'virus'\n",
    "    \n",
    "    return(classification)"
   ]
  },
  {
   "cell_type": "code",
   "execution_count": 12,
   "id": "e606211c-a30c-458b-a377-281af5246644",
   "metadata": {},
   "outputs": [],
   "source": [
    "df['Classification'] = df['taxid'].apply(assign_genomes)"
   ]
  },
  {
   "cell_type": "code",
   "execution_count": 5,
   "id": "48d14d13-d6ad-4fac-a0c8-85e95e7a3290",
   "metadata": {},
   "outputs": [],
   "source": [
    "# pick X number of random genomes per taxa and download them\n",
    "sampled_euks = df[df['Classification'] == 'eukaryote'].sample(20, random_state=234)\n",
    "sampled_bact = df[df['Classification'] == 'bacteria'].sample(100, random_state=345)\n",
    "\n",
    "sampled_euks[sampled_euks.columns[0]] = sampled_euks[sampled_euks.columns[0]].str.split('.').str[0]\n",
    "sampled_bact[sampled_bact.columns[0]] = sampled_bact[sampled_bact.columns[0]].str.split('.').str[0]\n",
    "\n",
    "sampled_euks_list = sampled_euks[sampled_euks.columns[0]].to_list()\n",
    "sampled_bact_list = sampled_bact[sampled_bact.columns[0]].to_list()\n",
    "\n",
    "for ftp in sampled_euks['ftp_path'].to_list():\n",
    "    genome_id = ftp.split(\"/\")[-1]\n",
    "    gen_url = os.path.join(ftp,genome_id + \"_genomic.fna.gz\").replace(\" \", \"_\")\n",
    "    r = requests.get(gen_url, allow_redirects=True)\n",
    "    open(\"genomes/\" + genome_id + \".fna.gzip\", 'wb').write(r.content)\n",
    "\n",
    "for ftp in sampled_bact['ftp_path'].to_list():\n",
    "    genome_id = ftp.split(\"/\")[-1]\n",
    "    gen_url = os.path.join(ftp,genome_id + \"_genomic.fna.gz\").replace(\" \", \"_\")\n",
    "    r = requests.get(gen_url, allow_redirects=True)\n",
    "    open(\"genomes/\" + genome_id + \".fna.gzip\", 'wb').write(r.content)"
   ]
  },
  {
   "cell_type": "code",
   "execution_count": null,
   "id": "b825f3d2-7807-47cd-9f51-b8b0836cfff7",
   "metadata": {},
   "outputs": [
    {
     "name": "stdout",
     "output_type": "stream",
     "text": [
      "GCF_000002995 euk\n",
      "GCF_000149685 euk\n",
      "GCF_000185845 bact\n",
      "GCF_000192795 euk\n",
      "GCF_000214015 euk\n",
      "GCF_000223845 euk\n",
      "GCF_000231095 euk\n",
      "GCF_000292625 euk\n",
      "GCF_000370305 bact\n",
      "GCF_000464535 euk\n",
      "GCF_000475195 euk\n",
      "GCF_000503715 bact\n",
      "GCF_000585565 euk\n",
      "GCF_000621785 bact\n",
      "GCF_000653655 bact\n",
      "GCF_000756225 bact\n",
      "GCF_000820425 bact\n",
      "GCF_000876915 bact\n",
      "GCF_000938615 bact\n",
      "GCF_001037665 bact\n",
      "GCF_001085385 bact\n",
      "GCF_001089745 bact\n",
      "GCF_001141605 bact\n",
      "GCF_001220925 bact\n",
      "GCF_001253695 bact\n",
      "GCF_001255635 bact\n",
      "GCF_001475075 bact\n",
      "GCF_001520655 bact\n",
      "GCF_001568155 bact\n",
      "GCF_001572005 bact\n",
      "GCF_001594535 bact\n",
      "GCF_001648945 bact\n",
      "GCF_001857705 euk\n",
      "GCF_002033825 bact\n",
      "GCF_002076415 bact\n",
      "GCF_002090455 bact\n",
      "GCF_002178075 bact\n",
      "GCF_002205495 bact\n",
      "GCF_002230975 bact\n",
      "GCF_002232505 bact\n",
      "GCF_002273155 bact\n",
      "GCF_002283795 bact\n",
      "GCF_002486075 bact\n",
      "GCF_002514525 bact\n",
      "GCF_002520825 bact\n"
     ]
    }
   ],
   "source": [
    "def is_valid_sequence(seq):\n",
    "    ''' Used to remove any kmers with N's in them '''\n",
    "    return set(seq).issubset({\"A\", \"T\", \"C\", \"G\"})\n",
    "\n",
    "kmers_visited = set()\n",
    "kmer_dict = defaultdict(lambda:0)\n",
    "\n",
    "directory = \"./genomes\"\n",
    "euk_count = 0\n",
    "bact_count = 0\n",
    "for filename in os.listdir(directory):\n",
    "    if filename.endswith(\".fna.gzip\"):\n",
    "        genome_bp_count = 0\n",
    "        \n",
    "        genome_id = \"_\".join(filename.split(\"_\")[0:2]).split('.')[0]\n",
    "        \n",
    "        if genome_id in sampled_euks_list: genome_type = 'euk'\n",
    "        elif genome_id in sampled_bact_list: genome_type = 'bact'\n",
    "        else: genome_type = 'NA'\n",
    "            \n",
    "        #print(genome_id, genome_type)\n",
    "        \n",
    "        with gzip.open(os.path.join(directory, filename), \"rt\") as handle:\n",
    "            for record in SeqIO.parse(handle, \"fasta\"):\n",
    "                if genome_bp_count < 10000000:\n",
    "                    if len(record.seq) > 5000:\n",
    "                        for i in range(0, len(record.seq), 5000):\n",
    "                            genome_bp_count += 5000\n",
    "                            if genome_type == 'euk': \n",
    "                                euk_count += 1\n",
    "                                contig_5kb_name = \"euk_\" + str(euk_count)\n",
    "                            elif genome_type == 'bact': \n",
    "                                bact_count += 1\n",
    "                                contig_5kb_name = \"bact_\" + str(bact_count)\n",
    "                                \n",
    "                            if genome_bp_count < 10000000:\n",
    "                                contig_5kb = record.seq[i:i+5000]\n",
    "                                for j in range(len(contig_5kb)):\n",
    "                                    kmer = contig_5kb[j:j+5].upper()\n",
    "                                    if len(kmer) == 5:\n",
    "                                        if is_valid_sequence(kmer) is True:\n",
    "                                            kmers_visited.add(str(kmer))\n",
    "                                            kmer_dict[(contig_5kb_name, str(kmer))] += 1\n",
    "                else:\n",
    "                    continue\n"
   ]
  },
  {
   "cell_type": "code",
   "execution_count": null,
   "id": "a0a77146-826e-4066-80e7-5c1013c9d026",
   "metadata": {},
   "outputs": [],
   "source": [
    "\n",
    "with open('saved_dictionary.pkl', 'wb') as f:\n",
    "    pickle.dump(kmer_dict, f)\n",
    "\n",
    "#with open('saved_dictionary.pkl', 'rb') as f:\n",
    " #   loaded_dict = pickle.load(f)\n"
   ]
  },
  {
   "cell_type": "code",
   "execution_count": 14,
   "id": "a30abffe-c67e-4302-8acb-d2ad3190724f",
   "metadata": {},
   "outputs": [
    {
     "data": {
      "text/plain": [
       "1024"
      ]
     },
     "execution_count": 14,
     "metadata": {},
     "output_type": "execute_result"
    }
   ],
   "source": [
    "len(kmers_visited)"
   ]
  },
  {
   "cell_type": "code",
   "execution_count": null,
   "id": "8b0210da-f40c-43c1-b391-d14c0289aeaa",
   "metadata": {},
   "outputs": [],
   "source": []
  },
  {
   "cell_type": "code",
   "execution_count": null,
   "id": "991a9ede-39d4-464d-9edf-b8eb444825d5",
   "metadata": {},
   "outputs": [],
   "source": []
  },
  {
   "cell_type": "code",
   "execution_count": null,
   "id": "7c7696b4-31b0-4601-807c-980170251437",
   "metadata": {},
   "outputs": [],
   "source": []
  }
 ],
 "metadata": {
  "kernelspec": {
   "display_name": "Python 3",
   "language": "python",
   "name": "python3"
  },
  "language_info": {
   "codemirror_mode": {
    "name": "ipython",
    "version": 3
   },
   "file_extension": ".py",
   "mimetype": "text/x-python",
   "name": "python",
   "nbconvert_exporter": "python",
   "pygments_lexer": "ipython3",
   "version": "3.6.15"
  }
 },
 "nbformat": 4,
 "nbformat_minor": 5
}
